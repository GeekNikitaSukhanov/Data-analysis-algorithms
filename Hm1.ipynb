{
 "cells": [
  {
   "cell_type": "code",
   "execution_count": 1,
   "metadata": {},
   "outputs": [],
   "source": [
    "import numpy as np"
   ]
  },
  {
   "cell_type": "code",
   "execution_count": 2,
   "metadata": {},
   "outputs": [],
   "source": [
    "X = np.array([[ 1,  1],\n",
    "              [ 1,  1],\n",
    "              [ 1,  2],\n",
    "              [ 1,  5],\n",
    "              [ 1,  3],\n",
    "              [ 1,  0],\n",
    "              [ 1,  5],\n",
    "              [ 1, 10],\n",
    "              [ 1,  1],\n",
    "              [ 1,  2]])"
   ]
  },
  {
   "cell_type": "code",
   "execution_count": 3,
   "metadata": {},
   "outputs": [],
   "source": [
    "y = [45, 55, 50, 55, 60, 35, 75, 80, 50, 60]"
   ]
  },
  {
   "cell_type": "code",
   "execution_count": null,
   "metadata": {},
   "outputs": [],
   "source": []
  },
  {
   "cell_type": "code",
   "execution_count": null,
   "metadata": {},
   "outputs": [],
   "source": []
  },
  {
   "cell_type": "code",
   "execution_count": null,
   "metadata": {},
   "outputs": [],
   "source": []
  },
  {
   "cell_type": "code",
   "execution_count": null,
   "metadata": {},
   "outputs": [],
   "source": []
  },
  {
   "cell_type": "code",
   "execution_count": 5,
   "metadata": {},
   "outputs": [],
   "source": [
    "def calc_mae(y, y_pred):\n",
    "    err = np.mean(np.abs(y - y_pred))\n",
    "    return err\n",
    "\n",
    "def calc_mse(y, y_pred):\n",
    "    err = np.mean((y - y_pred)**2)\n",
    "    return err"
   ]
  },
  {
   "cell_type": "markdown",
   "metadata": {},
   "source": [
    "**Задание**\n",
    "\n",
    "Подберите скорость обучения (eta) и количество итераций"
   ]
  },
  {
   "cell_type": "code",
   "execution_count": 19,
   "metadata": {},
   "outputs": [
    {
     "name": "stdout",
     "output_type": "stream",
     "text": [
      "Number of objects = 10        \n",
      "Learning rate = 0.1        \n",
      "Initial weights = [1.  0.5] \n",
      "\n",
      "Iteration #0: W_new = [11.8 38.2], MSE = 3047.75\n",
      "Iteration #10: W_new = [12651.73553914 69617.0969639 ], MSE = 18310954068.05\n",
      "Iteration #20: W_new = [ 7732434.81888021 42641607.37852183], MSE = 9128819654907562.0\n",
      "Iteration #30: W_new = [1.06344502e+09 5.86454589e+09], MSE = 2.327920364266843e+20\n",
      "Iteration #40: W_new = [3.00127077e+10 1.65510116e+11], MSE = 2.545133529815939e+23\n",
      "Iteration #50: W_new = [1.55345341e+11 8.56677968e+11], MSE = 9.572295620500076e+24\n",
      "Iteration #60: W_new = [1.27742291e+11 7.04456313e+11], MSE = 9.351480126475981e+24\n",
      "Iteration #70: W_new = [1.38141953e+10 7.61806995e+10], MSE = 1.64085895282839e+23\n",
      "Iteration #80: W_new = [1.51674189e+08 8.36432543e+08], MSE = 3.12553353787446e+19\n",
      "Iteration #90: W_new = [116395.49987587 641638.79864391], MSE = 31317286806394.35\n",
      "Iteration #100: W_new = [48.41966068 22.99883978], MSE = 53518.86\n",
      "Iteration #110: W_new = [44.97715771  3.82798364], MSE = 43.97\n",
      "Iteration #120: W_new = [44.99895221  3.82402341], MSE = 43.97\n",
      "Iteration #130: W_new = [45.01387838  3.82131678], MSE = 43.97\n",
      "Iteration #140: W_new = [45.02437076  3.81941415], MSE = 43.97\n",
      "Iteration #150: W_new = [45.03192327  3.81804462], MSE = 43.97\n",
      "Iteration #160: W_new = [45.03747771  3.81703741], MSE = 43.97\n",
      "Iteration #170: W_new = [45.04164307  3.81628208], MSE = 43.97\n",
      "Iteration #180: W_new = [45.04482243  3.81570555], MSE = 43.97\n",
      "Iteration #190: W_new = [45.04728844  3.81525838], MSE = 43.97\n",
      "Iteration #200: W_new = [45.0492292   3.81490646], MSE = 43.97\n",
      "Iteration #210: W_new = [45.05077689  3.81462581], MSE = 43.97\n",
      "Iteration #220: W_new = [45.052026   3.8143993], MSE = 43.97\n",
      "Iteration #230: W_new = [45.05304519  3.81421448], MSE = 43.97\n",
      "Iteration #240: W_new = [45.05388503  3.81406219], MSE = 43.97\n",
      "Iteration #250: W_new = [45.05458332  3.81393557], MSE = 43.97\n",
      "Iteration #260: W_new = [45.05516867  3.81382942], MSE = 43.97\n",
      "Iteration #270: W_new = [45.055663    3.81373978], MSE = 43.97\n",
      "Iteration #280: W_new = [45.05608328  3.81366357], MSE = 43.97\n",
      "Iteration #290: W_new = [45.05644278  3.81359838], MSE = 43.97\n",
      "Iteration #300: W_new = [45.05675202  3.81354231], MSE = 43.97\n",
      "Iteration #310: W_new = [45.05701936  3.81349383], MSE = 43.97\n",
      "Iteration #320: W_new = [45.05725155  3.81345173], MSE = 43.97\n",
      "Iteration #330: W_new = [45.05745403  3.81341501], MSE = 43.97\n",
      "Iteration #340: W_new = [45.0576313   3.81338286], MSE = 43.97\n",
      "Iteration #350: W_new = [45.05778701  3.81335463], MSE = 43.97\n",
      "Iteration #360: W_new = [45.05792422  3.81332975], MSE = 43.97\n",
      "Iteration #370: W_new = [45.05804548  3.81330776], MSE = 43.97\n",
      "Iteration #380: W_new = [45.0581529   3.81328828], MSE = 43.97\n",
      "Iteration #390: W_new = [45.0582483   3.81327098], MSE = 43.97\n",
      "Iteration #400: W_new = [45.0583332   3.81325558], MSE = 43.97\n",
      "Iteration #410: W_new = [45.05840891  3.81324186], MSE = 43.97\n",
      "Iteration #420: W_new = [45.05847653  3.81322959], MSE = 43.97\n",
      "Iteration #430: W_new = [45.05853703  3.81321862], MSE = 43.97\n",
      "Iteration #440: W_new = [45.05859123  3.81320879], MSE = 43.97\n",
      "Iteration #450: W_new = [45.05863986  3.81319998], MSE = 43.97\n",
      "Iteration #460: W_new = [45.05868355  3.81319205], MSE = 43.97\n",
      "Iteration #470: W_new = [45.05872283  3.81318493], MSE = 43.97\n",
      "Iteration #480: W_new = [45.05875818  3.81317852], MSE = 43.97\n",
      "Iteration #490: W_new = [45.05879004  3.81317274], MSE = 43.97\n",
      "Iteration #500: W_new = [45.05881876  3.81316754], MSE = 43.97\n",
      "Iteration #510: W_new = [45.05884468  3.81316284], MSE = 43.97\n",
      "Iteration #520: W_new = [45.05886808  3.81315859], MSE = 43.97\n",
      "Iteration #530: W_new = [45.05888922  3.81315476], MSE = 43.97\n",
      "Iteration #540: W_new = [45.05890834  3.81315129], MSE = 43.97\n",
      "Iteration #550: W_new = [45.05892562  3.81314816], MSE = 43.97\n",
      "Iteration #560: W_new = [45.05894127  3.81314532], MSE = 43.97\n",
      "Iteration #570: W_new = [45.05895543  3.81314275], MSE = 43.97\n",
      "Iteration #580: W_new = [45.05896825  3.81314043], MSE = 43.97\n",
      "Iteration #590: W_new = [45.05897987  3.81313832], MSE = 43.97\n",
      "Iteration #600: W_new = [45.0589904   3.81313641], MSE = 43.97\n",
      "Iteration #610: W_new = [45.05899995  3.81313468], MSE = 43.97\n",
      "Iteration #620: W_new = [45.0590086   3.81313311], MSE = 43.97\n",
      "Iteration #630: W_new = [45.05901645  3.81313169], MSE = 43.97\n",
      "Iteration #640: W_new = [45.05902357  3.8131304 ], MSE = 43.97\n",
      "Iteration #650: W_new = [45.05903003  3.81312923], MSE = 43.97\n",
      "Iteration #660: W_new = [45.05903589  3.81312816], MSE = 43.97\n",
      "Iteration #670: W_new = [45.05904121  3.8131272 ], MSE = 43.97\n",
      "Iteration #680: W_new = [45.05904604  3.81312632], MSE = 43.97\n",
      "Iteration #690: W_new = [45.05905043  3.81312553], MSE = 43.97\n",
      "Iteration #700: W_new = [45.05905441  3.8131248 ], MSE = 43.97\n",
      "Iteration #710: W_new = [45.05905803  3.81312415], MSE = 43.97\n",
      "Iteration #720: W_new = [45.05906131  3.81312355], MSE = 43.97\n",
      "Iteration #730: W_new = [45.05906429  3.81312301], MSE = 43.97\n",
      "Iteration #740: W_new = [45.059067    3.81312252], MSE = 43.97\n",
      "Iteration #750: W_new = [45.05906946  3.81312208], MSE = 43.97\n",
      "Iteration #760: W_new = [45.0590717   3.81312167], MSE = 43.97\n",
      "Iteration #770: W_new = [45.05907373  3.8131213 ], MSE = 43.97\n",
      "Iteration #780: W_new = [45.05907557  3.81312097], MSE = 43.97\n",
      "Iteration #790: W_new = [45.05907725  3.81312066], MSE = 43.97\n",
      "Iteration #800: W_new = [45.05907877  3.81312039], MSE = 43.97\n",
      "Iteration #810: W_new = [45.05908016  3.81312014], MSE = 43.97\n",
      "Iteration #820: W_new = [45.05908142  3.81311991], MSE = 43.97\n",
      "Iteration #830: W_new = [45.05908256  3.8131197 ], MSE = 43.97\n",
      "Iteration #840: W_new = [45.0590836   3.81311951], MSE = 43.97\n",
      "Iteration #850: W_new = [45.05908454  3.81311934], MSE = 43.97\n",
      "Iteration #860: W_new = [45.0590854   3.81311918], MSE = 43.97\n",
      "Iteration #870: W_new = [45.05908618  3.81311904], MSE = 43.97\n",
      "Iteration #880: W_new = [45.05908689  3.81311891], MSE = 43.97\n",
      "Iteration #890: W_new = [45.05908753  3.8131188 ], MSE = 43.97\n",
      "Iteration #900: W_new = [45.05908812  3.81311869], MSE = 43.97\n",
      "Iteration #910: W_new = [45.05908865  3.8131186 ], MSE = 43.97\n",
      "Iteration #920: W_new = [45.05908914  3.81311851], MSE = 43.97\n",
      "Iteration #930: W_new = [45.05908958  3.81311843], MSE = 43.97\n",
      "Iteration #940: W_new = [45.05908998  3.81311836], MSE = 43.97\n",
      "Iteration #950: W_new = [45.05909034  3.81311829], MSE = 43.97\n",
      "Iteration #960: W_new = [45.05909067  3.81311823], MSE = 43.97\n",
      "Iteration #970: W_new = [45.05909097  3.81311817], MSE = 43.97\n",
      "Iteration #980: W_new = [45.05909124  3.81311813], MSE = 43.97\n",
      "Iteration #990: W_new = [45.05909149  3.81311808], MSE = 43.97\n"
     ]
    }
   ],
   "source": [
    "n = X.shape[0]\n",
    "\n",
    "eta = 0.1 \n",
    "n_iter = 1000\n",
    "\n",
    "W = np.array([1, 0.5])\n",
    "print(f'Number of objects = {n} \\\n",
    "       \\nLearning rate = {eta} \\\n",
    "       \\nInitial weights = {W} \\n')\n",
    "\n",
    "for i in range(n_iter):\n",
    "    y_pred = np.dot(X, W)\n",
    "    err = calc_mse(y, y_pred)\n",
    "    for k in range(W.shape[0]):\n",
    "        W[k] -= eta * (1/n * 2 * X[:, k] @ (y_pred - y))\n",
    "    if i % 10 == 0:\n",
    "        eta /= 1.1\n",
    "        print(f'Iteration #{i}: W_new = {W}, MSE = {round(err, 2)}')"
   ]
  },
  {
   "cell_type": "code",
   "execution_count": null,
   "metadata": {},
   "outputs": [],
   "source": []
  }
 ],
 "metadata": {
  "kernelspec": {
   "display_name": "Python 3",
   "language": "python",
   "name": "python3"
  },
  "language_info": {
   "codemirror_mode": {
    "name": "ipython",
    "version": 3
   },
   "file_extension": ".py",
   "mimetype": "text/x-python",
   "name": "python",
   "nbconvert_exporter": "python",
   "pygments_lexer": "ipython3",
   "version": "3.8.5"
  }
 },
 "nbformat": 4,
 "nbformat_minor": 4
}
